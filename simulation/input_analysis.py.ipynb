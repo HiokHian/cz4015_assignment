{
 "cells": [
  {
   "cell_type": "code",
   "execution_count": 10,
   "id": "vulnerable-metallic",
   "metadata": {},
   "outputs": [],
   "source": [
    "import pandas as pd\n",
    "import numpy as np\n",
    "from scipy import stats\n",
    "import seaborn as sns\n"
   ]
  },
  {
   "cell_type": "markdown",
   "id": "novel-likelihood",
   "metadata": {},
   "source": [
    "# Input analysis\n",
    "Here the number of samples s is 10,000, so the recommended k number of intervals is between 100 and 20,000\n",
    "according to the lecture slides.\n",
    "The DOF = k - s - 1 where s is the number of parameters in the hypothesized distribution\n",
    "So s = 1 for exponential distribution and s = 2 for normal distribution.\n",
    "the probabilities for each interval = 1/k where k is the number of intervals\n",
    "Here, we can choose k = 100.\n",
    "\n",
    "We hypothesise the following:\n",
    "1. Interarrival times are exponentially distributed with mean = mean of the interarrival times\n",
    "2. Call durations (left shifted to by the minimum of the call durations) seem to conform to a normal distribution\n",
    "3. Speeds are normally distributed with a mean and std equal to those of the data\n",
    "\n",
    "Base stations are uniformly distributed as stated in the question."
   ]
  },
  {
   "cell_type": "code",
   "execution_count": 2,
   "id": "dedicated-federation",
   "metadata": {},
   "outputs": [],
   "source": [
    "df = pd.read_excel(\"PCS_TEST_DETERMINSTIC.xls\")\n",
    "\n",
    "interarrival_times = df[\"Arrival time (sec)\"].iloc[1:].reset_index(drop=True) - df[\n",
    "    \"Arrival time (sec)\"\n",
    "].iloc[:-1].reset_index(drop=True)\n",
    "interarrival_times = interarrival_times.tolist()"
   ]
  },
  {
   "cell_type": "code",
   "execution_count": 14,
   "id": "sunset-magnet",
   "metadata": {},
   "outputs": [
    {
     "data": {
      "text/plain": [
       "Index(['Arrival no', 'Arrival time (sec)', 'Base station ',\n",
       "       'Call duration (sec)', 'velocity (km/h)'],\n",
       "      dtype='object')"
      ]
     },
     "execution_count": 14,
     "metadata": {},
     "output_type": "execute_result"
    }
   ],
   "source": [
    "df.columns"
   ]
  },
  {
   "cell_type": "markdown",
   "id": "mysterious-stupid",
   "metadata": {},
   "source": [
    "#  Interarrival times\n",
    "\n",
    "By plotting the interarrival times, we see that the distribution of the interarrival times follows a similar distribution to an exponential distribution."
   ]
  },
  {
   "cell_type": "code",
   "execution_count": 18,
   "id": "jewish-wireless",
   "metadata": {},
   "outputs": [
    {
     "data": {
      "text/plain": [
       "<seaborn.axisgrid.FacetGrid at 0x1e89757c6d0>"
      ]
     },
     "execution_count": 18,
     "metadata": {},
     "output_type": "execute_result"
    },
    {
     "data": {
      "image/png": "[encoded data removed]",
      "text/plain": [
       "<Figure size 360x360 with 1 Axes>"
      ]
     },
     "metadata": {
      "needs_background": "light"
     },
     "output_type": "display_data"
    }
   ],
   "source": [
    "sns.displot(data=interarrival_times, kind=\"kde\")"
   ]
  },
  {
   "cell_type": "markdown",
   "id": "hungry-treat",
   "metadata": {},
   "source": [
    "Here, we observe that the distribution of interarrival times follows a similar distribution to a exponential distribution"
   ]
  },
  {
   "cell_type": "code",
   "execution_count": 24,
   "id": "balanced-indianapolis",
   "metadata": {},
   "outputs": [
    {
     "name": "stdout",
     "output_type": "stream",
     "text": [
      "Chi square statistic for interarrival times:  111.66106610661065 \n",
      "Beta for hypothesized exponential distribution:  1.3698169264765245\n",
      "Accept null hypothesis, X conforms to hypothesized distribution.\n"
     ]
    }
   ],
   "source": [
    "# Interarrival time\n",
    "# since we let k = 1000, p_j = 1/1000 => n*p_j = 10\n",
    "# k - s -1 = 98, and we choose the significance to be 0.95\n",
    "k = 100\n",
    "n = len(interarrival_times)\n",
    "interval_prob = 1 / k\n",
    "expected_counts_per_interval = n * interval_prob\n",
    "beta = sum(interarrival_times) / len(interarrival_times)\n",
    "interval_end_pts = [beta * np.log(1 / (1 - i * interval_prob)) for i in range(k)] + [\n",
    "    np.inf\n",
    "]\n",
    "chi_square_statistic = 0\n",
    "observed_frequencies = []\n",
    "for left, right in zip(interval_end_pts[:-1], interval_end_pts[1:]):\n",
    "    filtered = [time for time in interarrival_times if left <= time < right]\n",
    "    interval_actual_count = len(filtered)\n",
    "    observed_frequencies.append(interval_actual_count)\n",
    "    interval_chi_square_statistic = (\n",
    "        interval_actual_count - expected_counts_per_interval\n",
    "    ) ** 2 / expected_counts_per_interval\n",
    "    chi_square_statistic += interval_chi_square_statistic\n",
    "print(\n",
    "    \"Chi square statistic for interarrival times: \",\n",
    "    chi_square_statistic,\n",
    "    \"\\nBeta for hypothesized exponential distribution: \",\n",
    "    beta,\n",
    ")\n",
    "# ppf returns the value x for which the cdf of the distribution is >/ 0.95\n",
    "if chi_square_statistic > stats.chi2.ppf(0.95,100-1-1):\n",
    "    print(\"Reject null hypothesis, X does not conform to hypothesized distribution.\")\n",
    "else:\n",
    "    print(\"Accept null hypothesis, X conforms to hypothesized distribution.\")\n"
   ]
  },
  {
   "cell_type": "markdown",
   "id": "reported-cartridge",
   "metadata": {},
   "source": [
    "Since the chi square statistic is smaller than the critical value, we accept the null hypothesis that the interarrival times corresponds to an exponential distribution with a beta of 1.369."
   ]
  },
  {
   "cell_type": "markdown",
   "id": "sustainable-flash",
   "metadata": {},
   "source": [
    "# Call duration\n",
    "\n",
    "By plotting the call duration, we also see a distribution that seem to be an exponential distribution. "
   ]
  },
  {
   "cell_type": "code",
   "execution_count": 33,
   "id": "british-dependence",
   "metadata": {},
   "outputs": [
    {
     "data": {
      "text/plain": [
       "<seaborn.axisgrid.FacetGrid at 0x1e897b143d0>"
      ]
     },
     "execution_count": 33,
     "metadata": {},
     "output_type": "execute_result"
    },
    {
     "data": {
      "image/png": "[encoded data removed]",
      "text/plain": [
       "<Figure size 360x360 with 1 Axes>"
      ]
     },
     "metadata": {
      "needs_background": "light"
     },
     "output_type": "display_data"
    }
   ],
   "source": [
    "sns.displot(data=df, x = 'Call duration (sec)', kind= 'kde')"
   ]
  },
  {
   "cell_type": "code",
   "execution_count": 40,
   "id": "binding-damage",
   "metadata": {},
   "outputs": [
    {
     "name": "stdout",
     "output_type": "stream",
     "text": [
      "Chi square statistic for durations:  97.02980298029806 \n",
      "Beta for hypothesized exponential distribution:  99.83194913549542\n",
      "Accept null hypothesis, X conforms to hypothesized distribution.\n"
     ]
    }
   ],
   "source": [
    "min_call_duration = df[\"Call duration (sec)\"].min()\n",
    "df[\"Call duration (sec)\"] = df[\"Call duration (sec)\"] - min_call_duration\n",
    "beta = df[\"Call duration (sec)\"].mean()\n",
    "interval_end_pts = [beta * np.log(1 / (1 - i * interval_prob)) for i in range(k)] + [\n",
    "    np.inf\n",
    "]\n",
    "call_durations = df[\"Call duration (sec)\"]\n",
    "chi_square_statistic = 0\n",
    "observed_frequencies = []\n",
    "for left, right in zip(interval_end_pts[:-1], interval_end_pts[1:]):\n",
    "    filtered = [duration for duration in call_durations if left <= duration < right]\n",
    "    interval_actual_count = len(filtered)\n",
    "    observed_frequencies.append(interval_actual_count)\n",
    "    interval_chi_square_statistic = (\n",
    "        interval_actual_count - expected_counts_per_interval\n",
    "    ) ** 2 / expected_counts_per_interval\n",
    "    chi_square_statistic += interval_chi_square_statistic\n",
    "print(\n",
    "    \"Chi square statistic for durations: \",\n",
    "    chi_square_statistic,\n",
    "    \"\\nBeta for hypothesized exponential distribution: \",\n",
    "    beta,\n",
    ")\n",
    "# ppf returns the value x for which the cdf of the distribution is >/ 0.95\n",
    "if chi_square_statistic > stats.chi2.ppf(0.95,100-1-1):\n",
    "    print(\"Reject null hypothesis, X does not conform to hypothesized distribution.\")\n",
    "else:\n",
    "    print(\"Accept null hypothesis, X conforms to hypothesized distribution.\")\n"
   ]
  },
  {
   "cell_type": "markdown",
   "id": "simplified-removal",
   "metadata": {},
   "source": [
    "Since the chi square statistic is smaller than the critical value, we accept the null hypothesis that the call duration corresponds to an exponential distribution with a beta of 99.83194913549542."
   ]
  },
  {
   "cell_type": "markdown",
   "id": "ready-literacy",
   "metadata": {},
   "source": [
    "# Speed\n",
    "\n",
    "By plotting the speed, we see a distribution that looks similar to a normal distribution"
   ]
  },
  {
   "cell_type": "code",
   "execution_count": 36,
   "id": "round-creation",
   "metadata": {},
   "outputs": [
    {
     "data": {
      "text/plain": [
       "<seaborn.axisgrid.FacetGrid at 0x1e89757ca60>"
      ]
     },
     "execution_count": 36,
     "metadata": {},
     "output_type": "execute_result"
    },
    {
     "data": {
      "image/png": "[encoded data removed]",
      "text/plain": [
       "<Figure size 360x360 with 1 Axes>"
      ]
     },
     "metadata": {
      "needs_background": "light"
     },
     "output_type": "display_data"
    }
   ],
   "source": [
    "sns.displot(data=df, x = 'velocity (km/h)', kind= 'kde')"
   ]
  },
  {
   "cell_type": "code",
   "execution_count": 38,
   "id": "understood-dress",
   "metadata": {},
   "outputs": [
    {
     "name": "stdout",
     "output_type": "stream",
     "text": [
      "Chi square statistic for speed:  96.30973097309734 \n",
      "Mean for normal distribution:  120.07209801685764 \n",
      "Std for normal distribution:  9.019057897896923\n",
      "Accept null hypothesis, X conforms to hypothesized distribution.\n"
     ]
    }
   ],
   "source": [
    "mean = df[\"velocity (km/h)\"].mean()\n",
    "std = df[\"velocity (km/h)\"].std()\n",
    "interval_end_pts = [\n",
    "    stats.norm.ppf(i * interval_prob, loc=mean, scale=std) for i in range(k)\n",
    "] + [np.inf]\n",
    "speeds = df[\"velocity (km/h)\"].tolist()\n",
    "chi_square_statistic = 0\n",
    "observed_frequencies = []\n",
    "for left, right in zip(interval_end_pts[:-1], interval_end_pts[1:]):\n",
    "    filtered = [speed for speed in speeds if left <= speed < right]\n",
    "    interval_actual_count = len(filtered)\n",
    "    observed_frequencies.append(interval_actual_count)\n",
    "    interval_chi_square_statistic = (\n",
    "        interval_actual_count - expected_counts_per_interval\n",
    "    ) ** 2 / expected_counts_per_interval\n",
    "    chi_square_statistic += interval_chi_square_statistic\n",
    "print(\n",
    "    \"Chi square statistic for speed: \",\n",
    "    chi_square_statistic,\n",
    "    \"\\nMean for normal distribution: \",\n",
    "    mean,\n",
    "    \"\\nStd for normal distribution: \",\n",
    "    std,\n",
    ")\n",
    "\n",
    "# ppf returns the value x for which the cdf of the distribution is >/ 0.95\n",
    "if chi_square_statistic > stats.chi2.ppf(0.95,100-1-1):\n",
    "    print(\"Reject null hypothesis, X does not conform to hypothesized distribution.\")\n",
    "else:\n",
    "    print(\"Accept null hypothesis, X conforms to hypothesized distribution.\")\n"
   ]
  },
  {
   "cell_type": "markdown",
   "id": "serious-surgeon",
   "metadata": {},
   "source": [
    "Since the chi square statistic is smaller than the critical value, we accept the null hypothesis that the speed corresponds to an normal distribution with a mean of 120.07209801685764 and a standard deviation of 9.019057897896923."
   ]
  },
  {
   "cell_type": "markdown",
   "id": "funky-saturn",
   "metadata": {},
   "source": [
    "# Base stations\n",
    "\n",
    "It is already stated in the assignment that the starting point of the calls are uniformly distributed since it is mentioned that \"the position of the car initiating a call in a cell is uniformly distributed along the section of the highway covered by the base station\".\n",
    "\n",
    "We verify this by plotting the distribution of base stations and it looks roughy uniform."
   ]
  },
  {
   "cell_type": "code",
   "execution_count": 41,
   "id": "arbitrary-cream",
   "metadata": {},
   "outputs": [
    {
     "data": {
      "text/plain": [
       "<Axes: xlabel='Base station ', ylabel='Count'>"
      ]
     },
     "execution_count": 41,
     "metadata": {},
     "output_type": "execute_result"
    },
    {
     "data": {
      "image/png": "[encoded data removed]",
      "text/plain": [
       "<Figure size 432x288 with 1 Axes>"
      ]
     },
     "metadata": {
      "needs_background": "light"
     },
     "output_type": "display_data"
    }
   ],
   "source": [
    "sns.histplot(data=df, x = 'Base station ', bins=20)"
   ]
  },
  {
   "cell_type": "markdown",
   "id": "pleased-monte",
   "metadata": {},
   "source": [
    "# Direction\n",
    "\n",
    "Lastly, since it is stated that \"the traffic volumes in the two directions are the same. This means the two directions of cars travelling along the highway have equal probabilities\", in our simulation, we follow this distribution"
   ]
  },
  {
   "cell_type": "code",
   "execution_count": null,
   "id": "racial-selling",
   "metadata": {},
   "outputs": [],
   "source": []
  }
 ],
 "metadata": {
  "kernelspec": {
   "display_name": "Python 3 (ipykernel)",
   "language": "python",
   "name": "python3"
  },
  "language_info": {
   "codemirror_mode": {
    "name": "ipython",
    "version": 3
   },
   "file_extension": ".py",
   "mimetype": "text/x-python",
   "name": "python",
   "nbconvert_exporter": "python",
   "pygments_lexer": "ipython3",
   "version": "3.9.15"
  }
 },
 "nbformat": 4,
 "nbformat_minor": 5
}
