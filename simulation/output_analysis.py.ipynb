{
 "cells": [
  {
   "cell_type": "code",
   "execution_count": 86,
   "id": "adapted-moment",
   "metadata": {},
   "outputs": [],
   "source": [
    "import pandas as pd\n",
    "import numpy as np\n",
    "from scipy import stats\n",
    "import seaborn as sns\n",
    "import os"
   ]
  },
  {
   "cell_type": "code",
   "execution_count": 87,
   "id": "surrounded-satin",
   "metadata": {},
   "outputs": [],
   "source": [
    "dfs = {}\n",
    "parent_folder = 'results'\n",
    "for file in os.listdir(parent_folder):\n",
    "    full_file_path = os.path.join(parent_folder, file)\n",
    "    dfs[file] = pd.read_csv(full_file_path)"
   ]
  },
  {
   "cell_type": "code",
   "execution_count": 89,
   "id": "sensitive-salmon",
   "metadata": {},
   "outputs": [
    {
     "name": "stdout",
     "output_type": "stream",
     "text": [
      "reservation_false_num_0.csv\n",
      "\n",
      "Mean percentage of blocked calls 0.29852153015302724 ± 0.002648134350376418\n",
      "Blocked calls confidence Interval: 0.2958733958026508 0.30116966450340366\n",
      "\n",
      "Mean percentage of dropped calls 0.44010779473778805 ± 0.0036021478637359118\n",
      "Dropped calls confidence Interval: 0.43650564687405213 0.44370994260152397\n",
      "QoS Requirements: PASSED\n",
      "\n",
      "reservation_true_num_1.csv\n",
      "\n",
      "Mean percentage of blocked calls 0.6395908158621001 ± 0.003986502970832561\n",
      "Blocked calls confidence Interval: 0.6356043128912675 0.6435773188329327\n",
      "\n",
      "Mean percentage of dropped calls 0.30942190768444905 ± 0.003008140422822259\n",
      "Dropped calls confidence Interval: 0.3064137672616268 0.3124300481072713\n",
      "QoS Requirements: PASSED\n",
      "\n",
      "reservation_true_num_2.csv\n",
      "\n",
      "Mean percentage of blocked calls 1.2437188650078543 ± 0.005691478458418943\n",
      "Blocked calls confidence Interval: 1.2380273865494353 1.2494103434662733\n",
      "\n",
      "Mean percentage of dropped calls 0.20613027493048935 ± 0.0025037249194805166\n",
      "Dropped calls confidence Interval: 0.20362655001100885 0.20863399984996986\n",
      "QoS Requirements: PASSED\n",
      "\n",
      "reservation_true_num_3.csv\n",
      "\n",
      "Mean percentage of blocked calls 2.2372852074863308 ± 0.007056315905127108\n",
      "Blocked calls confidence Interval: 2.230228891581204 2.2443415233914576\n",
      "\n",
      "Mean percentage of dropped calls 0.12492462147007684 ± 0.0019013434042145505\n",
      "Dropped calls confidence Interval: 0.12302327806586229 0.12682596487429137\n",
      "QoS Requirements: FAILED\n",
      "\n",
      "reservation_true_num_4.csv\n",
      "\n",
      "Mean percentage of blocked calls 3.7672573294169704 ± 0.008283526455401346\n",
      "Blocked calls confidence Interval: 3.758973802961569 3.775540855872372\n",
      "\n",
      "Mean percentage of dropped calls 0.06531353025460239 ± 0.0013343119932986633\n",
      "Dropped calls confidence Interval: 0.06397921826130373 0.06664784224790105\n",
      "QoS Requirements: FAILED\n",
      "\n",
      "reservation_true_num_5.csv\n",
      "\n",
      "Mean percentage of blocked calls 6.055090837726781 ± 0.010223895883785729\n",
      "Blocked calls confidence Interval: 6.0448669418429954 6.065314733610567\n",
      "\n",
      "Mean percentage of dropped calls 0.0277528615151726 ± 0.0007906370601591603\n",
      "Dropped calls confidence Interval: 0.02696222445501344 0.02854349857533176\n",
      "QoS Requirements: FAILED\n",
      "\n"
     ]
    }
   ],
   "source": [
    "for key in dfs:\n",
    "    print(key)\n",
    "    mean_pct_blocked = dfs[key].final_pct_blocked_calls.mean()\n",
    "    std_pct_blocked = dfs[key].final_pct_blocked_calls.std()\n",
    "    mean_pct_dropped = dfs[key].final_pct_dropped_calls.mean()\n",
    "    std_pct_dropped = dfs[key].final_pct_dropped_calls.std()\n",
    "\n",
    "    num_iter = len(dfs[key])\n",
    "    blocked_interval_half_width = stats.t.ppf(1-0.05/2, num_iter-1) * std_pct_blocked / num_iter**0.5\n",
    "    dropped_interval_half_width = stats.t.ppf(1-0.05/2, num_iter-1) * std_pct_dropped / num_iter**0.5\n",
    "\n",
    "    print()\n",
    "    print(f'Mean percentage of blocked calls {mean_pct_blocked} ± {blocked_interval_half_width}')\n",
    "    print(f'Blocked calls confidence Interval: {mean_pct_blocked - blocked_interval_half_width} {mean_pct_blocked + blocked_interval_half_width}')\n",
    "    print()\n",
    "    print(f'Mean percentage of dropped calls {mean_pct_dropped} ± {dropped_interval_half_width}')\n",
    "    print(f'Dropped calls confidence Interval: {mean_pct_dropped - dropped_interval_half_width} {mean_pct_dropped + dropped_interval_half_width}')\n",
    "    if mean_pct_blocked < 2 and mean_pct_dropped < 1:\n",
    "        print('QoS Requirements: PASSED')\n",
    "    else:\n",
    "        print('QoS Requirements: FAILED')\n",
    "    print()\n"
   ]
  },
  {
   "cell_type": "code",
   "execution_count": null,
   "id": "sixth-poker",
   "metadata": {},
   "outputs": [],
   "source": []
  }
 ],
 "metadata": {
  "kernelspec": {
   "display_name": "Python 3 (ipykernel)",
   "language": "python",
   "name": "python3"
  },
  "language_info": {
   "codemirror_mode": {
    "name": "ipython",
    "version": 3
   },
   "file_extension": ".py",
   "mimetype": "text/x-python",
   "name": "python",
   "nbconvert_exporter": "python",
   "pygments_lexer": "ipython3",
   "version": "3.9.15"
  }
 },
 "nbformat": 4,
 "nbformat_minor": 5
}
